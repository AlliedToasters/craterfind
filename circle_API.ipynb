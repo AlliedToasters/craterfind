{
 "cells": [
  {
   "cell_type": "markdown",
   "metadata": {},
   "source": [
    "# Simplified Model\n",
    "This is an attempt to simplify the process considerably with the goal of creating a RESTful API for this."
   ]
  },
  {
   "cell_type": "code",
   "execution_count": 2,
   "metadata": {},
   "outputs": [],
   "source": [
    "df, images = get_images(csv_path='./annotations/train.csv', clahe=False)\n",
    "data = df[(df.r<10)]"
   ]
  },
  {
   "cell_type": "code",
   "execution_count": 9,
   "metadata": {},
   "outputs": [
    {
     "name": "stderr",
     "output_type": "stream",
     "text": [
      "/media/alliedtoasters/ExtraDrive1/miniconda3/envs/craters/lib/python3.6/site-packages/ipykernel_launcher.py:32: DeprecationWarning: `imsave` is deprecated!\n",
      "`imsave` is deprecated in SciPy 1.0.0, and will be removed in 1.2.0.\n",
      "Use ``imageio.imwrite`` instead.\n"
     ]
    }
   ],
   "source": [
    "import scipy.misc\n",
    "\n",
    "def datagen(batch_size = 32):\n",
    "    while True:\n",
    "        X = []\n",
    "        Y = []\n",
    "        for i, row in data.sample(n=batch_size).iterrows():\n",
    "            img = images[row['source']]\n",
    "            gt_center = row['x'], row['y']\n",
    "            prop_center = (round(row['x']) + np.random.randint(-3, 4), round(row['y']) + np.random.randint(-3, 4))\n",
    "            gt_radius = row['r']\n",
    "            scale = 32\n",
    "            extr, label = create_labeled_pair(img, gt_center, prop_center, gt_radius, scale)\n",
    "            extr = extr[:, :, 0:1].astype(float)\n",
    "            label = (label[0] + 15, label[1] + 15, label[2]*32)\n",
    "            #extr -= extr.mean()\n",
    "            #extr /= extr.std()\n",
    "            X.append(np.expand_dims(extr, axis=0))\n",
    "            Y.append(np.expand_dims(label, axis=0))\n",
    "        X = np.concatenate(X)\n",
    "        Y = np.concatenate(Y)\n",
    "        yield X\n",
    "        \n",
    "gen = datagen()\n",
    "\n",
    "\n",
    "i=-1\n",
    "for _ in range(10):\n",
    "    crats = next(gen)\n",
    "    for crat in crats:\n",
    "        i += 1\n",
    "        scipy.misc.imsave(f'/home/alliedtoasters/craterfind/data/{i}.png', crat[:, :, 0])"
   ]
  },
  {
   "cell_type": "code",
   "execution_count": 6,
   "metadata": {},
   "outputs": [
    {
     "name": "stderr",
     "output_type": "stream",
     "text": [
      "/media/alliedtoasters/ExtraDrive1/miniconda3/envs/craters/lib/python3.6/site-packages/ipykernel_launcher.py:1: DeprecationWarning: `imsave` is deprecated!\n",
      "`imsave` is deprecated in SciPy 1.0.0, and will be removed in 1.2.0.\n",
      "Use ``imageio.imwrite`` instead.\n",
      "  \"\"\"Entry point for launching an IPython kernel.\n"
     ]
    }
   ],
   "source": [
    "scipy.misc.imsave('test_crater.jpg', out[0][:, :, 0])"
   ]
  },
  {
   "cell_type": "code",
   "execution_count": 36,
   "metadata": {},
   "outputs": [
    {
     "name": "stdout",
     "output_type": "stream",
     "text": [
      "{\n",
      "    \"predictions\": [[7.44050503, 7.73400879, 4.39179]\n",
      "    ]\n",
      "}\n"
     ]
    }
   ],
   "source": [
    "import os\n",
    "import json\n",
    "import requests\n",
    "import numpy as np\n",
    "import subprocess\n",
    "\n",
    "arr = np.random.rand(1024)\n",
    "\n",
    "body = {\n",
    "    \"instances\": [arr.tolist()]\n",
    "}\n",
    "\n",
    "body = json.dumps(body)\n",
    "\n",
    "myurl = 'http://localhost:8501/v1/models/craters:predict'\n",
    "\n",
    "batcmd=f\"curl -d '{body}' -X POST {myurl}\"\n",
    "#print(batcmd, '\\t')\n",
    "print(subprocess.check_output(batcmd, shell=True).decode())"
   ]
  },
  {
   "cell_type": "code",
   "execution_count": 1,
   "metadata": {},
   "outputs": [
    {
     "ename": "ModuleNotFoundError",
     "evalue": "No module named 'processing'",
     "output_type": "error",
     "traceback": [
      "\u001b[0;31m---------------------------------------------------------------------------\u001b[0m",
      "\u001b[0;31mModuleNotFoundError\u001b[0m                       Traceback (most recent call last)",
      "\u001b[0;32m<ipython-input-1-09960273cb00>\u001b[0m in \u001b[0;36m<module>\u001b[0;34m\u001b[0m\n\u001b[1;32m      1\u001b[0m \u001b[0;32mimport\u001b[0m \u001b[0mpandas\u001b[0m \u001b[0;32mas\u001b[0m \u001b[0mpd\u001b[0m\u001b[0;34m\u001b[0m\u001b[0;34m\u001b[0m\u001b[0m\n\u001b[1;32m      2\u001b[0m \u001b[0;32mimport\u001b[0m \u001b[0mnumpy\u001b[0m \u001b[0;32mas\u001b[0m \u001b[0mnp\u001b[0m\u001b[0;34m\u001b[0m\u001b[0;34m\u001b[0m\u001b[0m\n\u001b[0;32m----> 3\u001b[0;31m \u001b[0;32mfrom\u001b[0m \u001b[0mprocessing\u001b[0m \u001b[0;32mimport\u001b[0m \u001b[0mget_images\u001b[0m\u001b[0;34m,\u001b[0m \u001b[0mcreate_labeled_example\u001b[0m\u001b[0;34m,\u001b[0m \u001b[0mcreate_labeled_pair\u001b[0m\u001b[0;34m\u001b[0m\u001b[0;34m\u001b[0m\u001b[0m\n\u001b[0m\u001b[1;32m      4\u001b[0m \u001b[0;32mimport\u001b[0m \u001b[0mmatplotlib\u001b[0m\u001b[0;34m.\u001b[0m\u001b[0mpyplot\u001b[0m \u001b[0;32mas\u001b[0m \u001b[0mplt\u001b[0m\u001b[0;34m\u001b[0m\u001b[0;34m\u001b[0m\u001b[0m\n\u001b[1;32m      5\u001b[0m \u001b[0;32mfrom\u001b[0m \u001b[0mmatplotlib\u001b[0m\u001b[0;34m.\u001b[0m\u001b[0mpatches\u001b[0m \u001b[0;32mimport\u001b[0m \u001b[0mCircle\u001b[0m\u001b[0;34m\u001b[0m\u001b[0;34m\u001b[0m\u001b[0m\n",
      "\u001b[0;31mModuleNotFoundError\u001b[0m: No module named 'processing'"
     ]
    }
   ],
   "source": [
    "import pandas as pd\n",
    "import numpy as np\n",
    "from processing import get_images, create_labeled_example, create_labeled_pair\n",
    "import matplotlib.pyplot as plt\n",
    "from matplotlib.patches import Circle\n",
    "\n",
    "from tensorflow.keras.layers import Dense\n",
    "from tensorflow.keras.models import Sequential"
   ]
  },
  {
   "cell_type": "code",
   "execution_count": 3,
   "metadata": {},
   "outputs": [],
   "source": [
    "df, images = get_images(clahe=False)\n",
    "data = df[(df.r<10)]"
   ]
  },
  {
   "cell_type": "code",
   "execution_count": 4,
   "metadata": {},
   "outputs": [
    {
     "data": {
      "text/plain": [
       "-3"
      ]
     },
     "execution_count": 4,
     "metadata": {},
     "output_type": "execute_result"
    }
   ],
   "source": [
    "np.random.randint(-3, 4)"
   ]
  },
  {
   "cell_type": "code",
   "execution_count": 5,
   "metadata": {},
   "outputs": [],
   "source": [
    "def raw_datagen():\n",
    "    while True:\n",
    "        for i, row in data.sample(n=1).iterrows():\n",
    "            img = images[row['source']]\n",
    "            gt_center = row['x'], row['y']\n",
    "            prop_center = (round(row['x']) + np.random.randint(-3, 4), round(row['y']) + np.random.randint(-3, 4))\n",
    "            gt_radius = row['r']\n",
    "            scale = 32\n",
    "            extr, label = create_labeled_pair(img, gt_center, prop_center, gt_radius, scale)\n",
    "            extr = extr[:, :, 0:1].astype(float)\n",
    "            label = (label[0] + 15, label[1] + 15, label[2]*32)\n",
    "        yield extr.flatten().tolist(), label"
   ]
  },
  {
   "cell_type": "code",
   "execution_count": 6,
   "metadata": {},
   "outputs": [],
   "source": [
    "def datagen(batch_size = 32):\n",
    "    while True:\n",
    "        X = []\n",
    "        Y = []\n",
    "        for i, row in data.sample(n=batch_size).iterrows():\n",
    "            img = images[row['source']]\n",
    "            gt_center = row['x'], row['y']\n",
    "            prop_center = (round(row['x']) + np.random.randint(-3, 4), round(row['y']) + np.random.randint(-3, 4))\n",
    "            gt_radius = row['r']\n",
    "            scale = 32\n",
    "            extr, label = create_labeled_pair(img, gt_center, prop_center, gt_radius, scale)\n",
    "            extr = extr[:, :, 0:1].astype(float)\n",
    "            label = (label[0] + 15, label[1] + 15, label[2]*32)\n",
    "            extr -= extr.mean()\n",
    "            extr /= extr.std()\n",
    "            X.append(np.expand_dims(extr, axis=0))\n",
    "            Y.append(np.expand_dims(label, axis=0))\n",
    "        X = np.concatenate(X)\n",
    "        Y = np.concatenate(Y)\n",
    "        yield X.reshape(batch_size, -1), Y.reshape(batch_size, -1)"
   ]
  },
  {
   "cell_type": "code",
   "execution_count": 7,
   "metadata": {},
   "outputs": [],
   "source": [
    "gen = datagen()\n",
    "x, y = next(gen)"
   ]
  },
  {
   "cell_type": "code",
   "execution_count": 8,
   "metadata": {},
   "outputs": [
    {
     "name": "stdout",
     "output_type": "stream",
     "text": [
      "WARNING:tensorflow:From /home/alliedtoasters/miniconda3/envs/craters/lib/python3.6/site-packages/tensorflow/python/ops/resource_variable_ops.py:435: colocate_with (from tensorflow.python.framework.ops) is deprecated and will be removed in a future version.\n",
      "Instructions for updating:\n",
      "Colocations handled automatically by placer.\n"
     ]
    }
   ],
   "source": [
    "model = Sequential()\n",
    "model.add(Dense(1024, input_shape=(1024,), activation='relu'))\n",
    "model.add(Dense(1024, activation='relu'))\n",
    "model.add(Dense(1024, activation='relu'))\n",
    "model.add(Dense(3))"
   ]
  },
  {
   "cell_type": "code",
   "execution_count": 9,
   "metadata": {},
   "outputs": [
    {
     "name": "stdout",
     "output_type": "stream",
     "text": [
      "WARNING:tensorflow:From /home/alliedtoasters/miniconda3/envs/craters/lib/python3.6/site-packages/tensorflow/python/keras/utils/losses_utils.py:170: to_float (from tensorflow.python.ops.math_ops) is deprecated and will be removed in a future version.\n",
      "Instructions for updating:\n",
      "Use tf.cast instead.\n"
     ]
    }
   ],
   "source": [
    "model.compile(optimizer='adam', loss='mse')"
   ]
  },
  {
   "cell_type": "code",
   "execution_count": 10,
   "metadata": {},
   "outputs": [
    {
     "name": "stdout",
     "output_type": "stream",
     "text": [
      "WARNING:tensorflow:From /home/alliedtoasters/miniconda3/envs/craters/lib/python3.6/site-packages/tensorflow/python/ops/math_ops.py:3066: to_int32 (from tensorflow.python.ops.math_ops) is deprecated and will be removed in a future version.\n",
      "Instructions for updating:\n",
      "Use tf.cast instead.\n",
      "Epoch 1/30\n",
      "100/100 [==============================] - 4s 40ms/step - loss: 6.5012\n",
      "Epoch 2/30\n",
      "100/100 [==============================] - 3s 35ms/step - loss: 1.2542\n",
      "Epoch 3/30\n",
      "100/100 [==============================] - 3s 34ms/step - loss: 1.2933\n",
      "Epoch 4/30\n",
      "100/100 [==============================] - 4s 35ms/step - loss: 1.4136\n",
      "Epoch 5/30\n",
      "100/100 [==============================] - 4s 40ms/step - loss: 1.5453\n",
      "Epoch 6/30\n",
      "100/100 [==============================] - 4s 42ms/step - loss: 1.3475\n",
      "Epoch 7/30\n",
      "100/100 [==============================] - 4s 41ms/step - loss: 1.3120\n",
      "Epoch 8/30\n",
      "100/100 [==============================] - 4s 41ms/step - loss: 1.3130\n",
      "Epoch 9/30\n",
      "100/100 [==============================] - 4s 37ms/step - loss: 1.3628\n",
      "Epoch 10/30\n",
      "100/100 [==============================] - 4s 35ms/step - loss: 1.3081\n",
      "Epoch 11/30\n",
      "100/100 [==============================] - 3s 32ms/step - loss: 1.2703\n",
      "Epoch 12/30\n",
      "100/100 [==============================] - 3s 31ms/step - loss: 1.2771\n",
      "Epoch 13/30\n",
      "100/100 [==============================] - 3s 32ms/step - loss: 1.0417\n",
      "Epoch 14/30\n",
      "100/100 [==============================] - 3s 33ms/step - loss: 1.0811\n",
      "Epoch 15/30\n",
      "100/100 [==============================] - 3s 32ms/step - loss: 0.9746\n",
      "Epoch 16/30\n",
      "100/100 [==============================] - 3s 33ms/step - loss: 1.0700\n",
      "Epoch 17/30\n",
      "100/100 [==============================] - 3s 32ms/step - loss: 1.0333\n",
      "Epoch 18/30\n",
      "100/100 [==============================] - 3s 30ms/step - loss: 1.0416\n",
      "Epoch 19/30\n",
      "100/100 [==============================] - 3s 32ms/step - loss: 0.9183\n",
      "Epoch 20/30\n",
      "100/100 [==============================] - 3s 30ms/step - loss: 0.9649\n",
      "Epoch 21/30\n",
      "100/100 [==============================] - 3s 29ms/step - loss: 0.9791\n",
      "Epoch 22/30\n",
      "100/100 [==============================] - 3s 31ms/step - loss: 0.8716\n",
      "Epoch 23/30\n",
      "100/100 [==============================] - 3s 30ms/step - loss: 0.8420\n",
      "Epoch 24/30\n",
      "100/100 [==============================] - 3s 31ms/step - loss: 0.9385\n",
      "Epoch 25/30\n",
      "100/100 [==============================] - 3s 30ms/step - loss: 0.9554\n",
      "Epoch 26/30\n",
      "100/100 [==============================] - 3s 30ms/step - loss: 0.9229\n",
      "Epoch 27/30\n",
      "100/100 [==============================] - 3s 34ms/step - loss: 0.8934\n",
      "Epoch 28/30\n",
      "100/100 [==============================] - 4s 35ms/step - loss: 0.8513\n",
      "Epoch 29/30\n",
      "100/100 [==============================] - 3s 34ms/step - loss: 0.8864\n",
      "Epoch 30/30\n",
      "100/100 [==============================] - 3s 34ms/step - loss: 0.8098\n"
     ]
    },
    {
     "data": {
      "text/plain": [
       "<tensorflow.python.keras.callbacks.History at 0x7f549463e1d0>"
      ]
     },
     "execution_count": 10,
     "metadata": {},
     "output_type": "execute_result"
    }
   ],
   "source": [
    "model.fit_generator(\n",
    "    gen,\n",
    "    steps_per_epoch=100,\n",
    "    epochs=30\n",
    ")"
   ]
  },
  {
   "cell_type": "code",
   "execution_count": 11,
   "metadata": {},
   "outputs": [],
   "source": [
    "model.save('./models/simple1.h2')"
   ]
  },
  {
   "cell_type": "code",
   "execution_count": null,
   "metadata": {},
   "outputs": [],
   "source": []
  },
  {
   "cell_type": "code",
   "execution_count": 39,
   "metadata": {},
   "outputs": [],
   "source": [
    "class ModelCaller(object):\n",
    "    \"\"\"Processes input and calls model.\"\"\"\n",
    "    \n",
    "    def __init__(self, model):\n",
    "        self.model = model\n",
    "        \n",
    "    def preprocess(self, inp):\n",
    "        x = np.array(inp)\n",
    "        x -= x.mean()\n",
    "        x /= x.std()\n",
    "        return x.reshape(1, -1)\n",
    "    \n",
    "    def __call__(self, inp):\n",
    "        x = self.preprocess(inp)\n",
    "        res = self.model.predict(x)\n",
    "        return res\n",
    "    \n",
    "md = ModelCaller(model=model)"
   ]
  },
  {
   "cell_type": "code",
   "execution_count": 40,
   "metadata": {},
   "outputs": [],
   "source": [
    "rgen = raw_datagen()"
   ]
  },
  {
   "cell_type": "code",
   "execution_count": 41,
   "metadata": {},
   "outputs": [],
   "source": [
    "x, y = next(rgen)"
   ]
  },
  {
   "cell_type": "code",
   "execution_count": 42,
   "metadata": {},
   "outputs": [
    {
     "data": {
      "text/plain": [
       "array([[14.472137, 16.155355,  9.416405]], dtype=float32)"
      ]
     },
     "execution_count": 42,
     "metadata": {},
     "output_type": "execute_result"
    }
   ],
   "source": [
    "md(x)"
   ]
  },
  {
   "cell_type": "code",
   "execution_count": 43,
   "metadata": {},
   "outputs": [
    {
     "data": {
      "text/plain": [
       "(14.573405791210519, 15.557427409507, 8.855615343217057)"
      ]
     },
     "execution_count": 43,
     "metadata": {},
     "output_type": "execute_result"
    }
   ],
   "source": []
  },
  {
   "cell_type": "code",
   "execution_count": null,
   "metadata": {},
   "outputs": [],
   "source": []
  }
 ],
 "metadata": {
  "kernelspec": {
   "display_name": "Python 3",
   "language": "python",
   "name": "python3"
  },
  "language_info": {
   "codemirror_mode": {
    "name": "ipython",
    "version": 3
   },
   "file_extension": ".py",
   "mimetype": "text/x-python",
   "name": "python",
   "nbconvert_exporter": "python",
   "pygments_lexer": "ipython3",
   "version": "3.6.8"
  }
 },
 "nbformat": 4,
 "nbformat_minor": 2
}
