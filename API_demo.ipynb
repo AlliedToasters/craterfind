{
 "cells": [
  {
   "cell_type": "markdown",
   "metadata": {},
   "source": [
    "# API Demo\n",
    "This notebook demonstrates usage of the craterfind API using a minimal python app. The first cell contains the code that will do the necessary things."
   ]
  },
  {
   "cell_type": "code",
   "execution_count": 5,
   "metadata": {},
   "outputs": [],
   "source": [
    "import json\n",
    "import subprocess\n",
    "\n",
    "import numpy as np\n",
    "import matplotlib.pyplot as plt\n",
    "from matplotlib.pyplot import imread\n",
    "from matplotlib.patches import Circle\n",
    "\n",
    "def load_image(path='./data/0.png'):\n",
    "    img = (imread(path)*255).astype(np.uint8)\n",
    "    return img\n",
    "\n",
    "def prepare_image(img):\n",
    "    img = img.flatten()\n",
    "    return img\n",
    "\n",
    "def prepare_request(array):\n",
    "    base_url = \"http://localhost:8501/v1/models/craters:predict\"\n",
    "    data = {\n",
    "        \"instances\":[array.tolist()]\n",
    "    }\n",
    "    data_json = json.dumps(data)\n",
    "    formatted = f\"curl -d '{data_json}' -X POST {base_url}\"\n",
    "    return formatted\n",
    "\n",
    "def make_request(request_string):\n",
    "    response = subprocess.check_output(request_string, shell=True).decode()\n",
    "    response_data = eval(response)\n",
    "    return response_data\n",
    "    \n",
    "\n",
    "def plot_prediction(img, prediction):\n",
    "    x,y,r = prediction\n",
    "    fig, ax = plt.subplots(1)\n",
    "    prediction = Circle(xy=(x,y), radius=r, fill=False)\n",
    "    ax.add_artist(prediction)\n",
    "    ax.imshow(img, cmap='Greys_r')"
   ]
  },
  {
   "cell_type": "markdown",
   "metadata": {},
   "source": [
    "# Start with an Image\n",
    "The model only takes pixels as an input. The annotator-provided crater location is implied to be in the center of the input image. This POC just deals with images of 32x32 pixels, like the following:"
   ]
  },
  {
   "cell_type": "code",
   "execution_count": 7,
   "metadata": {},
   "outputs": [
    {
     "data": {
      "image/png": "[encoded data removed]",
      "text/plain": [
       "<Figure size 432x288 with 1 Axes>"
      ]
     },
     "metadata": {
      "needs_background": "light"
     },
     "output_type": "display_data"
    }
   ],
   "source": [
    "#randomly select an image from test data\n",
    "n = np.random.randint(300)\n",
    "#load image and convert to integer pixel values\n",
    "img = load_image(f'./data/{n}.png')\n",
    "plt.imshow(img, cmap='Greys_r');"
   ]
  },
  {
   "cell_type": "markdown",
   "metadata": {},
   "source": [
    "# Transform Pixels\n",
    "The raw pixel data needs to be flattened into a single vector."
   ]
  },
  {
   "cell_type": "code",
   "execution_count": 8,
   "metadata": {},
   "outputs": [
    {
     "name": "stdout",
     "output_type": "stream",
     "text": [
      "Shape of image data:  (1024,)\n"
     ]
    }
   ],
   "source": [
    "#this function does the transformation\n",
    "array = prepare_image(img)\n",
    "\n",
    "#inspect resulting data:\n",
    "print(\"Shape of image data: \", array.shape)"
   ]
  },
  {
   "cell_type": "markdown",
   "metadata": {},
   "source": [
    "# Form Request\n",
    "The API can be hit with a POST request and json body. The curl format would be:\n",
    "\n",
    "`curl -d '{\"instances\":[[pixels]]}' -X POST http://localhost:<ip>/v1/models/craters:predict`\n",
    "\n",
    "This is done here:"
   ]
  },
  {
   "cell_type": "code",
   "execution_count": 9,
   "metadata": {},
   "outputs": [
    {
     "name": "stdout",
     "output_type": "stream",
     "text": [
      "curl -d '{\"instances\": [[142, 145, 142, 153, 175, 153, 167, 175, 166, 156, 162, 188, 193, 167, 126, 129, 123, 119, 88, 100, 101, 129, 121, 151, 165, 152, 175, 160, 144, 149, 151, 168, 150, 131, 130, 161, 180, 227, 132, 167, 153, 169, 156, 171, 179, 163, 162, 150, 145, 83, 49, 116, 106, 126, 106, 151, 146, 139, 154, 163, 145, 157, 141, 131, 154, 165, 187, 173, 200, 186, 210, 158, 105, 112, 105, 52, 0, 61, 180, 159, 153, 105, 90, 107, 122, 78, 102, 83, 143, 151, 160, 158, 140, 125, 150, 158, 168, 155, 155, 179, 213, 187, 155, 60, 0, 0, 0, 0, 45, 91, 121, 146, 120, 181, 109, 74, 85, 97, 74, 124, 126, 153, 130, 160, 156, 143, 156, 152, 188, 134, 129, 189, 176, 190, 74, 0, 0, 0, 0, 0, 78, 116, 96, 120, 87, 65, 197, 105, 39, 43, 38, 117, 120, 132, 120, 121, 112, 115, 139, 170, 178, 188, 187, 165, 190, 134, 0, 0, 0, 0, 0, 33, 84, 74, 38, 120, 138, 162, 149, 205, 81, 21, 38, 123, 123, 147, 150, 157, 116, 140, 111, 159, 175, 181, 174, 88, 171, 0, 0, 0, 0, 0, 0, 34, 52, 67, 101, 128, 166, 157, 188, 202, 185, 0, 32, 106, 153, 147, 158, 160, 100, 109, 100, 117, 198, 190, 210, 20, 0, 0, 0, 0, 0, 0, 8, 54, 88, 76, 132, 147, 158, 163, 222, 217, 194, 200, 72, 111, 144, 149, 140, 140, 100, 105, 140, 129, 222, 90, 178, 0, 0, 0, 0, 0, 0, 32, 57, 87, 85, 128, 140, 137, 164, 188, 197, 241, 232, 237, 128, 126, 117, 98, 124, 115, 152, 115, 114, 111, 216, 167, 180, 0, 0, 0, 0, 0, 0, 59, 83, 105, 98, 147, 165, 195, 225, 255, 249, 244, 236, 255, 149, 92, 113, 91, 96, 129, 130, 131, 103, 129, 165, 194, 138, 0, 0, 0, 0, 0, 23, 50, 96, 137, 160, 177, 179, 226, 246, 255, 255, 255, 255, 255, 142, 123, 124, 114, 129, 154, 158, 116, 153, 105, 163, 151, 139, 0, 0, 0, 0, 0, 30, 93, 106, 156, 160, 172, 218, 243, 255, 255, 255, 255, 255, 255, 226, 190, 122, 144, 157, 101, 173, 101, 97, 133, 181, 184, 172, 0, 0, 0, 0, 0, 51, 107, 134, 156, 187, 195, 223, 255, 255, 255, 255, 255, 255, 255, 231, 155, 118, 135, 113, 103, 150, 133, 121, 111, 178, 163, 186, 0, 11, 0, 0, 0, 48, 111, 142, 184, 183, 214, 227, 255, 255, 255, 255, 255, 255, 255, 179, 123, 114, 122, 119, 133, 140, 128, 141, 110, 167, 190, 150, 105, 85, 0, 0, 0, 0, 102, 152, 190, 185, 228, 255, 255, 255, 255, 255, 255, 255, 246, 107, 87, 111, 118, 118, 132, 153, 163, 116, 146, 147, 185, 195, 175, 0, 24, 0, 0, 0, 85, 145, 175, 146, 205, 207, 249, 255, 255, 255, 255, 255, 144, 103, 76, 134, 159, 171, 168, 177, 160, 114, 118, 154, 191, 198, 151, 137, 153, 0, 10, 0, 62, 96, 149, 171, 103, 205, 229, 255, 255, 255, 255, 227, 63, 21, 122, 143, 167, 166, 140, 156, 120, 143, 101, 149, 173, 183, 175, 193, 176, 34, 0, 2, 63, 133, 160, 98, 188, 234, 255, 255, 255, 255, 255, 46, 41, 67, 90, 121, 148, 168, 144, 135, 136, 137, 149, 145, 152, 147, 154, 170, 195, 205, 5, 66, 128, 159, 181, 227, 231, 255, 251, 255, 255, 130, 137, 89, 101, 111, 77, 135, 130, 141, 120, 115, 143, 133, 104, 147, 143, 173, 159, 176, 183, 186, 199, 69, 148, 139, 195, 184, 174, 195, 255, 255, 66, 60, 48, 115, 87, 87, 99, 147, 146, 101, 155, 163, 152, 132, 95, 156, 157, 176, 184, 185, 204, 222, 229, 168, 180, 149, 207, 192, 221, 192, 68, 32, 42, 19, 98, 136, 131, 105, 143, 139, 109, 169, 154, 159, 106, 142, 70, 141, 146, 155, 181, 178, 183, 222, 223, 188, 149, 137, 58, 98, 117, 142, 43, 34, 91, 110, 145, 142, 155, 110, 160, 119, 146, 163, 166, 101, 124, 163, 156, 151, 160, 157, 176, 199, 166, 199, 200, 170, 161, 149, 88, 93, 109, 140, 109, 110, 133, 143, 126, 139, 153, 156, 160, 126, 144, 144, 116, 96, 150, 160, 171, 144, 181, 147, 144, 182, 147, 172, 186, 183, 152, 125, 118, 134, 157, 135, 153, 178, 170, 158, 142, 132, 167, 136, 145, 151, 157, 159, 173, 141, 135, 110, 160, 154, 168, 161, 165, 154, 164, 137, 213, 164, 170, 158, 64, 149, 175, 160, 172, 169, 150, 147, 138, 138, 186, 138, 150, 125, 151, 177, 152, 148, 165, 154, 138, 158, 175, 167, 148, 170, 165, 161, 180, 181, 160, 150, 103, 182, 155, 116, 183, 173, 177, 156, 139, 166, 106, 140, 157, 110, 119, 158, 141, 143, 158, 139, 95, 145, 143, 165, 153, 166, 153, 197, 180, 147, 167, 181, 176, 147, 150, 158, 170, 192, 180, 167, 128, 166, 167, 160, 136, 128, 145, 131, 146, 162, 132, 107, 151, 153, 178, 149, 170, 196, 151, 165, 143, 161, 174, 196, 172, 181, 178, 167, 164, 193, 167, 164, 112, 148, 163, 154, 131, 148, 136, 148, 173, 172, 121, 135, 151, 169, 145, 178, 192, 158, 154, 174, 166, 136, 167, 162, 180, 163, 158, 182, 152, 180, 157, 158, 143, 156, 159, 151, 143, 171, 133, 140, 152, 153, 156, 122, 169, 184, 170, 165, 165, 153, 161, 128, 159, 184, 145, 179, 153, 149, 155, 158, 196, 184, 155, 152, 141, 179, 156, 129, 141, 139, 158, 149, 147, 149, 156, 115, 147, 160, 152, 158, 172, 160, 171, 155, 173, 155, 152, 173, 154, 174, 120, 157, 171, 177, 178, 159, 142, 167, 144, 149, 143, 137, 150, 144, 142, 144, 158, 163, 143, 160, 168, 179, 149, 167, 174, 143, 150, 158, 159, 158, 161, 192, 169, 179, 158, 176, 147, 155, 154, 162, 133, 147, 152, 142, 151, 143, 160, 169, 172, 142, 147]]}' -X POST http://localhost:8501/v1/models/craters:predict\n"
     ]
    }
   ],
   "source": [
    "curl_request = prepare_request(array)\n",
    "#see what it looks like:\n",
    "print(curl_request)"
   ]
  },
  {
   "cell_type": "markdown",
   "metadata": {},
   "source": [
    "# Send Request, Parse Response"
   ]
  },
  {
   "cell_type": "code",
   "execution_count": 19,
   "metadata": {},
   "outputs": [
    {
     "name": "stdout",
     "output_type": "stream",
     "text": [
      "{'predictions': [[12.2411947, 16.6599426, 9.33994293]]}\n"
     ]
    }
   ],
   "source": [
    "response = make_request(curl_request)\n",
    "#response contains x, y, and r predictions for crater.\n",
    "print(response)"
   ]
  },
  {
   "cell_type": "markdown",
   "metadata": {},
   "source": [
    "# Plot Prediction"
   ]
  },
  {
   "cell_type": "code",
   "execution_count": 20,
   "metadata": {},
   "outputs": [
    {
     "data": {
      "image/png": "[encoded data removed]",
      "text/plain": [
       "<Figure size 432x288 with 1 Axes>"
      ]
     },
     "metadata": {
      "needs_background": "light"
     },
     "output_type": "display_data"
    }
   ],
   "source": [
    "prediction = response['predictions'][0]\n",
    "plot_prediction(img, prediction)"
   ]
  },
  {
   "cell_type": "code",
   "execution_count": null,
   "metadata": {},
   "outputs": [],
   "source": []
  }
 ],
 "metadata": {
  "kernelspec": {
   "display_name": "Python 3",
   "language": "python",
   "name": "python3"
  },
  "language_info": {
   "codemirror_mode": {
    "name": "ipython",
    "version": 3
   },
   "file_extension": ".py",
   "mimetype": "text/x-python",
   "name": "python",
   "nbconvert_exporter": "python",
   "pygments_lexer": "ipython3",
   "version": "3.6.8"
  }
 },
 "nbformat": 4,
 "nbformat_minor": 2
}
