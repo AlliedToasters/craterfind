{
 "cells": [
  {
   "cell_type": "markdown",
   "metadata": {},
   "source": [
    "# API Demo\n",
    "This notebook demonstrates usage of the craterfind API using a minimal python app. The first cell contains the code that will do the necessary things."
   ]
  },
  {
   "cell_type": "code",
   "execution_count": 1,
   "metadata": {},
   "outputs": [],
   "source": [
    "import json\n",
    "import subprocess\n",
    "\n",
    "import numpy as np\n",
    "import matplotlib.pyplot as plt\n",
    "from matplotlib.pyplot import imread\n",
    "from matplotlib.patches import Circle\n",
    "\n",
    "def load_image(path='./data/0.png'):\n",
    "    img = (imread(path)*255).astype(np.uint8)\n",
    "    return img\n",
    "\n",
    "def prepare_image(img):\n",
    "    img = img.flatten()\n",
    "    return img\n",
    "\n",
    "def prepare_request(array):\n",
    "    base_url = \"http://localhost:8501/v1/models/craters:predict\"\n",
    "    data = {\n",
    "        \"instances\":[array.tolist()]\n",
    "    }\n",
    "    data_json = json.dumps(data)\n",
    "    formatted = f\"curl -d '{data_json}' -X POST {base_url}\"\n",
    "    return formatted\n",
    "\n",
    "def make_request(request_string):\n",
    "    response = subprocess.check_output(request_string, shell=True).decode()\n",
    "    response_data = eval(response)\n",
    "    return response_data\n",
    "    \n",
    "\n",
    "def plot_prediction(img, prediction):\n",
    "    x,y,r = prediction\n",
    "    fig, ax = plt.subplots(1)\n",
    "    prediction = Circle(xy=(x,y), radius=r, fill=False)\n",
    "    ax.add_artist(prediction)\n",
    "    ax.imshow(img, cmap='Greys_r')"
   ]
  },
  {
   "cell_type": "markdown",
   "metadata": {},
   "source": [
    "# Start with an Image\n",
    "The model only takes pixels as an input. The annotator-provided crater location is implied to be in the center of the input image. This POC just deals with images of 32x32 pixels, like the following:"
   ]
  },
  {
   "cell_type": "code",
   "execution_count": 2,
   "metadata": {},
   "outputs": [
    {
     "data": {
      "image/png": "[encoded data removed]",
      "text/plain": [
       "<Figure size 432x288 with 1 Axes>"
      ]
     },
     "metadata": {
      "needs_background": "light"
     },
     "output_type": "display_data"
    }
   ],
   "source": [
    "#randomly select an image from test data\n",
    "n = np.random.randint(300)\n",
    "#load image and convert to integer pixel values\n",
    "img = load_image(f'./data/{n}.png')\n",
    "plt.imshow(img, cmap='Greys_r');"
   ]
  },
  {
   "cell_type": "markdown",
   "metadata": {},
   "source": [
    "# Transform Pixels\n",
    "The raw pixel data needs to be flattened into a single vector."
   ]
  },
  {
   "cell_type": "code",
   "execution_count": 3,
   "metadata": {},
   "outputs": [
    {
     "name": "stdout",
     "output_type": "stream",
     "text": [
      "Shape of image data:  (1024,)\n"
     ]
    }
   ],
   "source": [
    "#this function does the transformation\n",
    "array = prepare_image(img)\n",
    "\n",
    "#inspect resulting data:\n",
    "print(\"Shape of image data: \", array.shape)"
   ]
  },
  {
   "cell_type": "markdown",
   "metadata": {},
   "source": [
    "# Form Request\n",
    "The API can be hit with a POST request and json body. The curl format would be:\n",
    "\n",
    "`curl -d '{\"instances\":[[pixels]]}' -X POST http://localhost:<ip>/v1/models/craters:predict`\n",
    "\n",
    "This is done here:"
   ]
  },
  {
   "cell_type": "code",
   "execution_count": 4,
   "metadata": {},
   "outputs": [
    {
     "name": "stdout",
     "output_type": "stream",
     "text": [
      "curl -d '{\"instances\": [[148, 144, 170, 198, 167, 165, 184, 151, 180, 189, 192, 191, 162, 196, 191, 176, 181, 197, 208, 175, 157, 144, 201, 172, 191, 189, 176, 182, 193, 204, 176, 174, 157, 180, 161, 191, 189, 167, 187, 176, 170, 196, 200, 180, 181, 186, 192, 198, 182, 207, 170, 175, 187, 153, 173, 169, 171, 184, 192, 189, 150, 169, 195, 177, 165, 177, 190, 177, 162, 184, 195, 168, 205, 189, 233, 180, 165, 221, 197, 202, 148, 179, 199, 182, 159, 137, 164, 177, 145, 192, 189, 193, 170, 158, 199, 185, 157, 175, 163, 178, 183, 180, 213, 185, 202, 220, 237, 189, 157, 178, 210, 215, 178, 194, 205, 150, 192, 118, 150, 143, 142, 211, 181, 176, 170, 184, 205, 206, 180, 151, 177, 195, 193, 189, 191, 195, 203, 232, 244, 225, 174, 162, 170, 137, 142, 174, 192, 180, 139, 130, 148, 108, 185, 189, 183, 166, 166, 165, 197, 181, 172, 185, 183, 157, 186, 185, 190, 246, 215, 210, 185, 111, 75, 76, 106, 103, 145, 181, 217, 196, 149, 119, 124, 131, 162, 177, 168, 207, 197, 206, 166, 191, 199, 173, 187, 184, 195, 189, 239, 243, 138, 98, 10, 51, 73, 110, 144, 112, 171, 167, 200, 243, 179, 164, 136, 154, 149, 140, 188, 181, 145, 168, 180, 181, 176, 176, 212, 207, 224, 215, 219, 171, 37, 2, 60, 108, 113, 142, 160, 179, 199, 203, 221, 217, 250, 188, 164, 154, 134, 132, 171, 183, 171, 188, 137, 181, 183, 196, 204, 160, 216, 232, 232, 21, 0, 32, 95, 134, 159, 148, 178, 192, 205, 206, 234, 209, 234, 241, 133, 163, 118, 138, 169, 179, 171, 162, 190, 180, 178, 184, 206, 196, 221, 255, 126, 0, 6, 123, 119, 149, 169, 188, 187, 196, 204, 218, 212, 239, 226, 255, 161, 133, 145, 131, 177, 159, 186, 158, 152, 191, 171, 189, 198, 219, 202, 190, 175, 0, 70, 91, 116, 168, 195, 192, 208, 202, 212, 211, 214, 244, 248, 243, 203, 142, 132, 143, 142, 192, 184, 160, 150, 187, 195, 209, 226, 214, 220, 149, 40, 10, 91, 122, 142, 171, 173, 190, 203, 208, 222, 229, 208, 217, 241, 235, 255, 138, 142, 145, 137, 167, 188, 200, 168, 168, 177, 213, 184, 203, 224, 166, 0, 63, 88, 124, 179, 174, 195, 177, 204, 192, 225, 207, 230, 239, 239, 254, 255, 116, 123, 140, 154, 178, 194, 210, 200, 143, 190, 188, 215, 227, 243, 170, 0, 82, 143, 130, 182, 192, 178, 208, 210, 215, 240, 223, 233, 233, 228, 244, 255, 124, 137, 138, 126, 173, 152, 184, 177, 174, 192, 163, 214, 241, 255, 165, 0, 102, 130, 164, 155, 175, 186, 187, 188, 214, 225, 253, 236, 242, 231, 243, 254, 141, 194, 126, 140, 162, 186, 200, 175, 172, 192, 205, 225, 255, 211, 176, 0, 99, 132, 168, 184, 216, 204, 217, 208, 231, 214, 220, 209, 251, 225, 243, 205, 174, 178, 149, 174, 151, 204, 221, 155, 178, 180, 217, 220, 240, 200, 210, 107, 58, 128, 145, 188, 212, 218, 217, 230, 200, 235, 255, 207, 242, 237, 255, 139, 132, 122, 145, 133, 173, 170, 225, 183, 189, 195, 255, 237, 161, 255, 255, 197, 39, 124, 185, 175, 169, 177, 199, 225, 237, 224, 231, 242, 210, 255, 190, 82, 111, 155, 143, 167, 182, 198, 210, 202, 206, 227, 222, 215, 227, 230, 242, 253, 107, 83, 133, 200, 205, 206, 215, 221, 244, 229, 239, 237, 250, 249, 120, 91, 155, 147, 173, 148, 198, 188, 206, 197, 213, 194, 190, 177, 218, 244, 233, 255, 128, 167, 153, 105, 170, 179, 229, 244, 229, 230, 244, 227, 220, 94, 91, 155, 178, 170, 169, 164, 185, 211, 233, 160, 179, 157, 200, 205, 218, 197, 233, 131, 198, 186, 213, 197, 166, 135, 187, 230, 214, 249, 207, 147, 123, 91, 107, 172, 166, 176, 184, 166, 211, 197, 222, 191, 156, 174, 182, 215, 216, 201, 190, 215, 187, 171, 196, 190, 177, 223, 230, 191, 197, 195, 157, 101, 70, 86, 120, 161, 190, 205, 195, 164, 187, 226, 227, 128, 93, 207, 162, 176, 207, 205, 183, 223, 186, 190, 182, 166, 191, 204, 221, 199, 165, 134, 148, 87, 79, 137, 136, 186, 160, 198, 190, 186, 199, 218, 179, 70, 124, 171, 198, 204, 217, 178, 187, 196, 195, 212, 211, 205, 194, 180, 190, 167, 145, 149, 141, 161, 115, 133, 152, 151, 187, 158, 181, 194, 167, 185, 145, 187, 166, 178, 190, 185, 187, 211, 197, 189, 221, 192, 149, 182, 164, 188, 196, 171, 175, 118, 136, 124, 151, 196, 182, 149, 178, 198, 212, 167, 181, 160, 154, 177, 164, 189, 184, 175, 188, 176, 204, 214, 200, 178, 187, 181, 180, 190, 169, 168, 199, 121, 129, 141, 151, 186, 173, 171, 164, 170, 198, 198, 188, 199, 180, 183, 178, 206, 230, 175, 182, 177, 206, 219, 165, 173, 190, 193, 178, 192, 173, 155, 168, 131, 91, 133, 184, 175, 191, 209, 188, 199, 194, 201, 198, 224, 135, 168, 187, 191, 168, 169, 184, 190, 195, 210, 163, 156, 170, 170, 174, 162, 204, 176, 136, 143, 140, 195, 207, 193, 172, 185, 195, 205, 205, 196, 188, 233, 230, 146, 175, 198, 181, 209, 190, 208, 171, 177, 186, 183, 191, 167, 154, 168, 160, 165, 152, 172, 138, 201, 204, 160, 174, 186, 175, 187, 178, 186, 218, 205, 191, 188, 198, 201, 168, 193, 206, 214, 193, 193, 157, 188, 162, 156, 169, 197, 162, 176, 165, 166, 140, 169, 200, 161, 167, 180, 189, 187, 186, 194, 211, 216, 182, 191, 200, 191, 202, 207, 201, 178, 180, 189, 170, 192, 194, 154, 148, 182, 186, 192, 166, 191, 149, 166, 197, 179, 197, 193, 184, 183, 197, 220, 205, 195, 189, 198, 206, 217, 200, 166, 190, 199, 185, 194, 170, 163, 219, 147, 115, 192, 195, 145, 189, 199, 161, 168, 170, 184, 164, 179, 194, 205, 204, 198, 201, 197, 220, 179, 203]]}' -X POST http://localhost:8501/v1/models/craters:predict\n"
     ]
    }
   ],
   "source": [
    "curl_request = prepare_request(array)\n",
    "#see what it looks like:\n",
    "print(curl_request)"
   ]
  },
  {
   "cell_type": "markdown",
   "metadata": {},
   "source": [
    "# Send Request, Parse Response\n",
    "Make sure you have the [service running on your system](https://github.com/alliedtoasters/craterfind) before running the following cell or making a request."
   ]
  },
  {
   "cell_type": "code",
   "execution_count": 5,
   "metadata": {},
   "outputs": [
    {
     "name": "stdout",
     "output_type": "stream",
     "text": [
      "{'predictions': [[13.8767347, 12.4689255, 8.4121809]]}\n"
     ]
    }
   ],
   "source": [
    "response = make_request(curl_request)\n",
    "#response contains x, y, and r predictions for crater.\n",
    "print(response)"
   ]
  },
  {
   "cell_type": "markdown",
   "metadata": {},
   "source": [
    "# Plot Prediction"
   ]
  },
  {
   "cell_type": "code",
   "execution_count": 6,
   "metadata": {},
   "outputs": [
    {
     "data": {
      "image/png": "[encoded data removed]",
      "text/plain": [
       "<Figure size 432x288 with 1 Axes>"
      ]
     },
     "metadata": {
      "needs_background": "light"
     },
     "output_type": "display_data"
    }
   ],
   "source": [
    "prediction = response['predictions'][0]\n",
    "plot_prediction(img, prediction)"
   ]
  }
 ],
 "metadata": {
  "kernelspec": {
   "display_name": "Python 3",
   "language": "python",
   "name": "python3"
  },
  "language_info": {
   "codemirror_mode": {
    "name": "ipython",
    "version": 3
   },
   "file_extension": ".py",
   "mimetype": "text/x-python",
   "name": "python",
   "nbconvert_exporter": "python",
   "pygments_lexer": "ipython3",
   "version": "3.6.8"
  }
 },
 "nbformat": 4,
 "nbformat_minor": 2
}
